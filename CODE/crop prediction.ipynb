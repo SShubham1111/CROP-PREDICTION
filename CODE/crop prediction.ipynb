{
 "cells": [
  {
   "cell_type": "code",
   "execution_count": null,
   "id": "09c42ce3",
   "metadata": {},
   "outputs": [],
   "source": [
    "import numpy as np\n",
    "import pandas as pd\n",
    "from sklearn.model_selection import train_test_split\n",
    "from sklearn.linear_model import LogisticRegression, LinearRegression\n",
    "from sklearn.svm import SVC\n",
    "from sklearn.ensemble import RandomForestClassifier\n",
    "from sklearn.cluster import KMeans\n",
    "from sklearn.metrics import accuracy_score, mean_squared_error"
   ]
  },
  {
   "cell_type": "code",
   "execution_count": null,
   "id": "dda40cc9",
   "metadata": {},
   "outputs": [],
   "source": [
    "\n",
    "crop_data = pd.read_csv('crop_recommdation.csv')\n",
    "crop_data\n"
   ]
  },
  {
   "cell_type": "code",
   "execution_count": null,
   "id": "6f325366",
   "metadata": {},
   "outputs": [],
   "source": [
    "\n",
    "X = crop_data.drop('label', axis=1)  \n",
    "y = crop_data['label']  \n"
   ]
  },
  {
   "cell_type": "code",
   "execution_count": null,
   "id": "48a12baa",
   "metadata": {},
   "outputs": [],
   "source": [
    "\n",
    "X_train, X_test, y_train, y_test = train_test_split(X, y, test_size=0.2, random_state=42)"
   ]
  },
  {
   "cell_type": "code",
   "execution_count": null,
   "id": "556732d7",
   "metadata": {},
   "outputs": [],
   "source": [
    "X_encoded = pd.get_dummies(X_train)\n",
    "\n",
    "X_train_encoded, X_test_encoded, y_train, y_test = train_test_split(X_encoded, y_train, test_size=0.2, random_state=42)\n",
    "\n",
    "logistic_model = LogisticRegression()\n",
    "logistic_model.fit(X_train_encoded, y_train)\n",
    "y_pred_logistic = logistic_model.predict(X_test_encoded)\n",
    "logistic_accuracy = accuracy_score(y_test, y_pred_logistic)\n",
    "print(\"Logistic Regression Accuracy:\", logistic_accuracy)\n"
   ]
  },
  {
   "cell_type": "code",
   "execution_count": null,
   "id": "33bd79fc",
   "metadata": {},
   "outputs": [],
   "source": [
    "print(\"Shape of X_encoded:\", X_encoded.shape)\n",
    "print(\"Shape of y_train:\", y_train.shape)\n"
   ]
  },
  {
   "cell_type": "code",
   "execution_count": null,
   "id": "54538af9",
   "metadata": {},
   "outputs": [],
   "source": [
    "from sklearn.model_selection import train_test_split\n",
    "\n",
    "X_encoded = pd.get_dummies(X)\n",
    "\n",
    "X_train_encoded, X_test_encoded, y_train, y_test = train_test_split(X_encoded, y, test_size=0.2, random_state=42)\n",
    "\n",
    "svm_model = SVC(kernel='linear')\n",
    "svm_model.fit(X_train_encoded, y_train)\n",
    "y_pred_svm = svm_model.predict(X_test_encoded)\n",
    "svm_accuracy = accuracy_score(y_test, y_pred_svm)\n",
    "print(\"SVM Accuracy:\", svm_accuracy)\n"
   ]
  },
  {
   "cell_type": "code",
   "execution_count": null,
   "id": "869c5239",
   "metadata": {},
   "outputs": [],
   "source": [
    "\n",
    "print(\"Shape of X_encoded:\", X_encoded.shape)\n",
    "\n",
    "print(\"Number of missing values in X_encoded:\", X_encoded.isnull().sum())\n",
    "\n",
    "print(\"Number of missing values in y:\", y.isnull().sum())\n"
   ]
  },
  {
   "cell_type": "code",
   "execution_count": null,
   "id": "c1756077",
   "metadata": {},
   "outputs": [],
   "source": [
    "from sklearn.ensemble import RandomForestClassifier\n",
    "from sklearn.metrics import accuracy_score\n",
    "\n",
    "X_encoded = pd.get_dummies(X)\n",
    "\n",
    "X_train_encoded, X_test_encoded, y_train, y_test = train_test_split(X_encoded, y, test_size=0.2, random_state=42)\n",
    "\n",
    "rf_model = RandomForestClassifier()\n",
    "rf_model.fit(X_train_encoded, y_train)\n",
    "y_pred_rf = rf_model.predict(X_test_encoded)\n",
    "rf_accuracy = accuracy_score(y_test, y_pred_rf)\n",
    "print(\"Random Forest Accuracy:\", rf_accuracy)\n"
   ]
  },
  {
   "cell_type": "code",
   "execution_count": null,
   "id": "18c2dfbc",
   "metadata": {},
   "outputs": [],
   "source": [
    "from sklearn.ensemble import RandomForestClassifier"
   ]
  },
  {
   "cell_type": "code",
   "execution_count": null,
   "id": "c8a6fadd",
   "metadata": {},
   "outputs": [],
   "source": [
    "rf = RandomForestClassifier()\n"
   ]
  },
  {
   "cell_type": "code",
   "execution_count": null,
   "id": "6d8de150",
   "metadata": {},
   "outputs": [],
   "source": [
    "import pandas as pd"
   ]
  },
  {
   "cell_type": "code",
   "execution_count": null,
   "id": "f58b22ad",
   "metadata": {},
   "outputs": [],
   "source": [
    "X=crop_data.drop('label',axis=1)\n",
    "y=crop_data['label']\n",
    "X_encoded = pd.get_dummies(X)\n"
   ]
  },
  {
   "cell_type": "code",
   "execution_count": null,
   "id": "4a0aa99b",
   "metadata": {},
   "outputs": [],
   "source": [
    "from sklearn.ensemble import RandomForestClassifier\n",
    "rf = RandomForestClassifier()\n",
    "rf.fit(X_encoded,y)"
   ]
  },
  {
   "cell_type": "code",
   "execution_count": null,
   "id": "e4757b24",
   "metadata": {},
   "outputs": [],
   "source": [
    "new_data = pd.DataFrame({\n",
    "    'temperature':20.87974371,\n",
    "    'humidity':82.00274423,\n",
    "    'ph':6.502985292,\n",
    "    'water availability':202.9355362,\n",
    "    'season_rainy':0,\n",
    "    'season_spring':0,\n",
    "    'season_summer':0,\n",
    "    'season_winter':0,\n",
    "\n",
    "},index=[0])\n"
   ]
  },
  {
   "cell_type": "code",
   "execution_count": null,
   "id": "87c6061f",
   "metadata": {},
   "outputs": [],
   "source": [
    "new_data\n"
   ]
  },
  {
   "cell_type": "code",
   "execution_count": null,
   "id": "30fca1ed",
   "metadata": {},
   "outputs": [],
   "source": [
    "p = rf.predict(new_data)\n",
    "print(p[0])\n"
   ]
  },
  {
   "cell_type": "code",
   "execution_count": null,
   "id": "3b3bbf36",
   "metadata": {},
   "outputs": [],
   "source": [
    "import joblib"
   ]
  },
  {
   "cell_type": "code",
   "execution_count": null,
   "id": "42f3d170",
   "metadata": {},
   "outputs": [],
   "source": [
    "from sklearn.ensemble import RandomForestClassifier"
   ]
  },
  {
   "cell_type": "code",
   "execution_count": null,
   "id": "7b47e02d",
   "metadata": {},
   "outputs": [],
   "source": [
    "X=crop_data.drop('label',axis=1)\n",
    "y=crop_data['label']\n",
    "X_encoded = pd.get_dummies(X)\n"
   ]
  },
  {
   "cell_type": "code",
   "execution_count": null,
   "id": "d9d686c0",
   "metadata": {},
   "outputs": [],
   "source": [
    "rf = RandomForestClassifier()\n",
    "rf.fit(X_encoded,y)"
   ]
  },
  {
   "cell_type": "code",
   "execution_count": null,
   "id": "0cec1623",
   "metadata": {},
   "outputs": [],
   "source": [
    "joblib.dump(rf,'model_joblib_heart')"
   ]
  },
  {
   "cell_type": "code",
   "execution_count": null,
   "id": "0356a610",
   "metadata": {},
   "outputs": [],
   "source": [
    "model = joblib.load('model_joblib_heart')"
   ]
  },
  {
   "cell_type": "code",
   "execution_count": null,
   "id": "2f639daf",
   "metadata": {},
   "outputs": [],
   "source": [
    "model.predict(new_data)"
   ]
  },
  {
   "cell_type": "code",
   "execution_count": null,
   "id": "311d1035",
   "metadata": {},
   "outputs": [],
   "source": [
    "from tkinter import *\n",
    "import joblib\n",
    "def show_entry_fields():\n",
    "    p1=int(e1.get())\n",
    "    p2=int(e2.get())\n",
    "    p3=int(e3.get())\n",
    "    p4=int(e4.get())\n",
    "    p5=int(e5.get())\n",
    "    p6=int(e6.get())\n",
    "    p7=int(e7.get())\n",
    "    p8=int(e8.get())\n",
    "    model = joblib.load('model_joblib_heart')\n",
    "    result=model.predict([[p1,p2,p3,p4,p5,p6,p7,p8]])\n",
    "    Label(master, text='Predicted Crop is : ').grid(row=30)\n",
    "    Label(master, text=result[0]).grid(row=31)\n",
    "master = Tk()\n",
    "master.title(\"Smart Farming\")\n",
    "\n",
    "\n",
    "label = Label(master, text = \"Smart Farming\"\n",
    "                          , bg = \"black\", fg = \"white\"). \\\n",
    "                               grid(row=0,columnspan=2)\n",
    "\n",
    "\n",
    "Label(master, text=\"Temperature\").grid(row=1)\n",
    "Label(master, text=\"Humidity\").grid(row=2)\n",
    "Label(master, text=\"ph\").grid(row=3)\n",
    "Label(master, text=\"Water availability\").grid(row=4)\n",
    "Label(master, text=\"Season_rainy [0/1]\").grid(row=5)\n",
    "Label(master, text=\"Season_spring [0/1]\").grid(row=6)\n",
    "Label(master, text=\"Season_summer [0/1]\").grid(row=7)\n",
    "Label(master, text=\"Season_winter [0/1]\").grid(row=8)\n",
    "\n",
    "\n",
    "e1 = Entry(master)\n",
    "e2 = Entry(master)\n",
    "e3 = Entry(master)\n",
    "e4 = Entry(master)\n",
    "e5 = Entry(master)\n",
    "e6 = Entry(master)\n",
    "e7 = Entry(master)\n",
    "e8 = Entry(master)\n",
    "\n",
    "e1.grid(row=1, column=1)\n",
    "e2.grid(row=2, column=1)\n",
    "e3.grid(row=3, column=1)\n",
    "e4.grid(row=4, column=1)\n",
    "e5.grid(row=5, column=1)\n",
    "e6.grid(row=6, column=1)\n",
    "e7.grid(row=7, column=1)\n",
    "e8.grid(row=8, column=1)\n",
    "\n",
    "Button(master, text='Predict', command=show_entry_fields).grid()\n",
    "\n",
    "mainloop()"
   ]
  },
  {
   "cell_type": "code",
   "execution_count": null,
   "id": "9d89a77b",
   "metadata": {},
   "outputs": [],
   "source": []
  }
 ],
 "metadata": {
  "kernelspec": {
   "display_name": "Python 3",
   "language": "python",
   "name": "python3"
  },
  "language_info": {
   "codemirror_mode": {
    "name": "ipython",
    "version": 3
   },
   "file_extension": ".py",
   "mimetype": "text/x-python",
   "name": "python",
   "nbconvert_exporter": "python",
   "pygments_lexer": "ipython3",
   "version": "3.13.1"
  }
 },
 "nbformat": 4,
 "nbformat_minor": 5
}
